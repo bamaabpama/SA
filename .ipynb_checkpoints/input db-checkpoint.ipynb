{
 "cells": [
  {
   "cell_type": "code",
   "execution_count": 15,
   "metadata": {},
   "outputs": [
    {
     "name": "stdout",
     "output_type": "stream",
     "text": [
      "done\n"
     ]
    }
   ],
   "source": [
    "import pymysql\n",
    "import pandas as pd\n",
    "from sqlalchemy import create_engine\n",
    "\n",
    "host = '127.0.0.1'\n",
    "port = \"3306\"\n",
    "username = 'root'\n",
    "password = ''\n",
    "database = 'gdelt'\n",
    "\n",
    "engine=create_engine('mysql+pymysql://'+username+':'+password+'@'+host+':'+port+'/'+database)\n",
    "\n",
    "def run(sql):\n",
    "    df=pd.read_sql_query(sql,engine)\n",
    "    return df\n",
    "\n",
    "df_fromcsv=pd.read_csv('sample_dataset_id.csv')\n",
    "df_fromcsv.to_sql(name='dataset',con=engine,if_exists='replace',index=False)\n",
    "print(\"done\")\n",
    "# index=False, tidak dimasukkan ke indeks\n",
    "# if_exists = fail,append,replace. silahkan digunakan sesuai butuh"
   ]
  },
  {
   "cell_type": "code",
   "execution_count": null,
   "metadata": {},
   "outputs": [],
   "source": []
  }
 ],
 "metadata": {
  "kernelspec": {
   "display_name": "Python 3",
   "language": "python",
   "name": "python3"
  },
  "language_info": {
   "codemirror_mode": {
    "name": "ipython",
    "version": 3
   },
   "file_extension": ".py",
   "mimetype": "text/x-python",
   "name": "python",
   "nbconvert_exporter": "python",
   "pygments_lexer": "ipython3",
   "version": "3.6.4"
  }
 },
 "nbformat": 4,
 "nbformat_minor": 2
}
